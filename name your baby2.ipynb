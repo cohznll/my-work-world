{
 "cells": [
  {
   "cell_type": "code",
   "execution_count": 1,
   "metadata": {},
   "outputs": [],
   "source": [
    "from numpy.random import randint\n",
    "from numpy.random import choice"
   ]
  },
  {
   "cell_type": "code",
   "execution_count": 2,
   "metadata": {},
   "outputs": [],
   "source": [
    "words='''\n",
    "小\n",
    "胖\n",
    "呆\n",
    "宣\n",
    "玄\n",
    "謙\n",
    "安\n",
    "肥\n",
    "玉\n",
    "育\n",
    "龍\n",
    "熊\n",
    "貓\n",
    "狗\n",
    "豬\n",
    "黑\n",
    "藍\n",
    "慧\n",
    "璇\n",
    "馨\n",
    "欣\n",
    "心\n",
    "凱\n",
    "峰\n",
    "芝\n",
    "暉\n",
    "冠\n",
    "嫻\n",
    "稀\n",
    "熙\n",
    "茵\n",
    "承\n",
    "誠\n",
    "美\n",
    "鐵\n",
    "延\n",
    "巨'''"
   ]
  },
  {
   "cell_type": "code",
   "execution_count": 3,
   "metadata": {},
   "outputs": [],
   "source": [
    "lastname = '''\n",
    "陳\n",
    "古\n",
    "林\n",
    "王\n",
    "謝\n",
    "洪\n",
    "蘇\n",
    "張\n",
    "徐\n",
    "許\n",
    "江\n",
    "龍\n",
    "吳\n",
    "鄧\n",
    "鄭\n",
    "田\n",
    "蔣\n",
    "陶\n",
    "房\n",
    "大\n",
    "高'''"
   ]
  },
  {
   "cell_type": "code",
   "execution_count": 4,
   "metadata": {},
   "outputs": [],
   "source": [
    "phrase=words.split('\\n')\n",
    "phrase2=lastname.split('\\n')"
   ]
  },
  {
   "cell_type": "code",
   "execution_count": 5,
   "metadata": {},
   "outputs": [
    {
     "name": "stdout",
     "output_type": "stream",
     "text": [
      "許 安\n"
     ]
    }
   ],
   "source": [
    "k=randint(1,3)\n",
    "egg=choice(phrase,k)\n",
    "eggs=choice(phrase2,1)\n",
    "ham=' '.join(egg)\n",
    "ham2=' '.join(eggs)\n",
    "print(ham2,ham)"
   ]
  },
  {
   "cell_type": "code",
   "execution_count": null,
   "metadata": {},
   "outputs": [],
   "source": []
  }
 ],
 "metadata": {
  "kernelspec": {
   "display_name": "Python 3",
   "language": "python",
   "name": "python3"
  },
  "language_info": {
   "codemirror_mode": {
    "name": "ipython",
    "version": 3
   },
   "file_extension": ".py",
   "mimetype": "text/x-python",
   "name": "python",
   "nbconvert_exporter": "python",
   "pygments_lexer": "ipython3",
   "version": "3.7.1"
  }
 },
 "nbformat": 4,
 "nbformat_minor": 2
}
