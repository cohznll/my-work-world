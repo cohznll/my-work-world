{
 "cells": [
  {
   "cell_type": "code",
   "execution_count": 1,
   "metadata": {},
   "outputs": [],
   "source": [
    "%matplotlib inline\n",
    "\n",
    "import numpy as np\n",
    "import matplotlib.pyplot as plt\n",
    "import pandas as pd"
   ]
  },
  {
   "cell_type": "code",
   "execution_count": 5,
   "metadata": {},
   "outputs": [],
   "source": [
    "n1 = '古胖呆'\n",
    "n2 = '古小笨'\n",
    "n3 = '古聰明'"
   ]
  },
  {
   "cell_type": "code",
   "execution_count": 6,
   "metadata": {},
   "outputs": [],
   "source": [
    "s1 = 40.2012\n",
    "s2 = 55.3318\n",
    "s3 = 99.8213"
   ]
  },
  {
   "cell_type": "code",
   "execution_count": 8,
   "metadata": {},
   "outputs": [
    {
     "name": "stdout",
     "output_type": "stream",
     "text": [
      "==============================\n",
      "學生姓名                  分數\n",
      "------------------------------\n",
      "古胖呆                      40.20\n",
      "古小笨                      55.33\n",
      "古聰明                      99.82\n",
      "------------------------------\n",
      "家長簽章：__________\n"
     ]
    }
   ],
   "source": [
    "print('='*30)\n",
    "print(\"{0:<15s}{1:>9s}\".format(\"學生姓名\",\"分數\"))\n",
    "print('-'*30)\n",
    "print(\"%-21s%9.2f\"%((n1),(s1)))\n",
    "print(\"%-21s%9.2f\"%((n2),(s2)))\n",
    "print(\"%-21s%9.2f\"%((n3),(s3)))\n",
    "print('-'*30)\n",
    "print('家長簽章：' + '_'*10)"
   ]
  },
  {
   "cell_type": "code",
   "execution_count": null,
   "metadata": {},
   "outputs": [],
   "source": []
  }
 ],
 "metadata": {
  "kernelspec": {
   "display_name": "Python 3",
   "language": "python",
   "name": "python3"
  },
  "language_info": {
   "codemirror_mode": {
    "name": "ipython",
    "version": 3
   },
   "file_extension": ".py",
   "mimetype": "text/x-python",
   "name": "python",
   "nbconvert_exporter": "python",
   "pygments_lexer": "ipython3",
   "version": "3.7.1"
  }
 },
 "nbformat": 4,
 "nbformat_minor": 2
}
