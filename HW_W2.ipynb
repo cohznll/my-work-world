{
 "cells": [
  {
   "cell_type": "code",
   "execution_count": 2,
   "metadata": {},
   "outputs": [],
   "source": [
    "%matplotlib inline\n",
    "\n",
    "import numpy as np\n",
    "import matplotlib.pyplot as plt\n",
    "import pandas as pd"
   ]
  },
  {
   "cell_type": "markdown",
   "metadata": {},
   "source": [
    "## 拍拍\n",
    "* 機器人><"
   ]
  },
  {
   "cell_type": "code",
   "execution_count": 3,
   "metadata": {},
   "outputs": [
    {
     "ename": "SyntaxError",
     "evalue": "invalid syntax (<ipython-input-3-71ecfaabf69d>, line 3)",
     "output_type": "error",
     "traceback": [
      "\u001b[0;36m  File \u001b[0;32m\"<ipython-input-3-71ecfaabf69d>\"\u001b[0;36m, line \u001b[0;32m3\u001b[0m\n\u001b[0;31m    while (msg ! = '掰掰 ' ):\u001b[0m\n\u001b[0m               ^\u001b[0m\n\u001b[0;31mSyntaxError\u001b[0m\u001b[0;31m:\u001b[0m invalid syntax\n"
     ]
    }
   ],
   "source": [
    "msg = 'x'\n",
    "print('早安午安晚安你各位過的好嗎')\n",
    "while (msg ! = '掰掰 ' ):\n",
    "    msg = input(>>)\n",
    "    if '餓' in a :\n",
    "        print('拍拍 減肥吧')\n",
    "    elif '窮' in a :\n",
    "        print('哈哈 可憐 但拍拍')\n",
    "    elif '胖' in a :\n",
    "        print('又餓又窮又胖欸 拍拍')\n",
    "    else :\n",
    "        print('請討拍 不要哈拉')\n",
    "        "
   ]
  },
  {
   "cell_type": "code",
   "execution_count": null,
   "metadata": {},
   "outputs": [],
   "source": [
    "msg = \"喵\"\n",
    "\n",
    "while (msg != \"bye\"):\n",
    "    msg = input(\">>\")\n",
    "    print (\"ㄆㄆ\")\n",
    "\n"
   ]
  },
  {
   "cell_type": "code",
   "execution_count": null,
   "metadata": {},
   "outputs": [],
   "source": [
    "msg = \"喵\"\n",
    "print('早安午安晚安你各位過的好嗎')\n",
    "while (msg != \"bye\"):\n",
    "    msg = input(\">>\")\n",
    "    print (\"ㄆㄆ\")"
   ]
  },
  {
   "cell_type": "code",
   "execution_count": 5,
   "metadata": {},
   "outputs": [
    {
     "name": "stdout",
     "output_type": "stream",
     "text": [
      "早安午安晚安你各位過的好嗎\n",
      ">>睡\n",
      "還來討拍啊?!\n",
      "還敢睡啊?!\n",
      ">>好壞\n",
      "還來討拍啊?!\n",
      "我是不會拍拍你的!!請堅強!!\n",
      ">>bye\n",
      "還來討拍啊?!\n"
     ]
    }
   ],
   "source": [
    "msg = \"喵\"\n",
    "print('早安午安晚安你各位過的好嗎')\n",
    "while (msg != \"bye\"):\n",
    "    msg = input(\">>\")\n",
    "    if '睡' in msg:\n",
    "        print ('喂!還敢睡ㄚ?!')\n",
    "    elif '好壞' in msg:\n",
    "        print('我是不會拍拍你的!!請堅強!!')\n",
    "    else :\n",
    "        print ('還敢來討拍ㄚ?!!')"
   ]
  },
  {
   "cell_type": "code",
   "execution_count": 6,
   "metadata": {},
   "outputs": [
    {
     "name": "stdout",
     "output_type": "stream",
     "text": [
      "早安午安晚安你各位過的好嗎\n",
      ">>嗚嗚 好餓\n",
      "還敢來討拍ㄚ?!!\n",
      ">>嗚嗚 好窮～～\n",
      "還敢來討拍ㄚ?!!\n",
      ">>好想睡～～～\n",
      "喂!還敢睡ㄚ?!\n",
      ">>你好壞好兇\n",
      "我是不會拍拍你的!!請堅強!!\n",
      ">>好吧 bye\n",
      "終於不吵了 拍拍～\n",
      ">>bye\n",
      "終於不吵了 拍拍～\n"
     ]
    }
   ],
   "source": [
    "msg = \"喵\"\n",
    "print('早安午安晚安你各位過的好嗎')\n",
    "while (msg != \"bye\"):\n",
    "    msg = input(\">>\")\n",
    "    if '睡' in msg:\n",
    "        print ('喂!還敢睡ㄚ?!')\n",
    "    elif '好壞' in msg:\n",
    "        print('我是不會拍拍你的!!請堅強!!')\n",
    "    elif 'bye' in msg:\n",
    "        print('終於不吵了 拍拍～')\n",
    "    else :\n",
    "        print ('還敢來討拍ㄚ?!!')"
   ]
  },
  {
   "cell_type": "code",
   "execution_count": null,
   "metadata": {},
   "outputs": [],
   "source": []
  }
 ],
 "metadata": {
  "kernelspec": {
   "display_name": "Python 3",
   "language": "python",
   "name": "python3"
  },
  "language_info": {
   "codemirror_mode": {
    "name": "ipython",
    "version": 3
   },
   "file_extension": ".py",
   "mimetype": "text/x-python",
   "name": "python",
   "nbconvert_exporter": "python",
   "pygments_lexer": "ipython3",
   "version": "3.7.1"
  }
 },
 "nbformat": 4,
 "nbformat_minor": 2
}
