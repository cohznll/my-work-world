{
 "cells": [
  {
   "cell_type": "code",
   "execution_count": 1,
   "metadata": {},
   "outputs": [],
   "source": [
    "%matplotlib inline\n",
    "\n",
    "import numpy as np\n",
    "import matplotlib.pyplot as plt\n",
    "import pandas as pd"
   ]
  },
  {
   "cell_type": "code",
   "execution_count": 12,
   "metadata": {},
   "outputs": [],
   "source": [
    "level = range(0,21)"
   ]
  },
  {
   "cell_type": "code",
   "execution_count": 13,
   "metadata": {},
   "outputs": [
    {
     "name": "stdout",
     "output_type": "stream",
     "text": [
      "&3w\n",
      "&3&3w\n",
      "&3&3&3w\n",
      "&3&3&3&3w\n",
      "&3&3&3&3&3w\n",
      "&3&3&3&3&3&3w\n",
      "&3&3&3&3&3&3&3w\n",
      "&3&3&3&3&3&3&3&3w\n",
      "&3&3&3&3&3&3&3&3&3w\n",
      "&3&3&3&3&3&3&3&3&3&3w\n",
      "&3&3&3&3&3&3&3&3&3&3&3w\n",
      "&3&3&3&3&3&3&3&3&3&3&3&3w\n",
      "&3&3&3&3&3&3&3&3&3&3&3&3&3w\n",
      "&3&3&3&3&3&3&3&3&3&3&3&3&3&3w\n",
      "&3&3&3&3&3&3&3&3&3&3&3&3&3&3&3w\n",
      "&3&3&3&3&3&3&3&3&3&3&3&3&3&3&3&3w\n",
      "&3&3&3&3&3&3&3&3&3&3&3&3&3&3&3&3&3w\n",
      "&3&3&3&3&3&3&3&3&3&3&3&3&3&3&3&3&3&3w\n",
      "&3&3&3&3&3&3&3&3&3&3&3&3&3&3&3&3&3&3&3w\n",
      "&3&3&3&3&3&3&3&3&3&3&3&3&3&3&3&3&3&3&3&3w\n",
      "&3&3&3&3&3&3&3&3&3&3&3&3&3&3&3&3&3&3&3&3&3w\n"
     ]
    }
   ],
   "source": [
    "ham = \"$\"\n",
    "\n",
    "for i in level:\n",
    "    print(\"&3\"*(i+1) + \"w\" )"
   ]
  },
  {
   "cell_type": "code",
   "execution_count": 18,
   "metadata": {},
   "outputs": [
    {
     "name": "stdout",
     "output_type": "stream",
     "text": [
      "                          ♛\n",
      "                         ^3^\n",
      "                      $<ww>$\n",
      "                     $<w&w>$\n",
      "                    $<w&&w>$\n",
      "                   $<w&&&w>$\n",
      "                  $<w&&&&w>$\n",
      "                 $<w&&&&&w>$\n",
      "                $<w&&&&&&w>$\n",
      "               $<w&&&&&&&w>$\n",
      "              $<w&&&&&&&&w>$\n",
      "             $<w&&&&&&&&&w>$\n",
      "            $<w&&&&&&&&&&w>$\n",
      "           $<w&&&&&&&&&&&w>$\n",
      "          $<w&&&&&&&&&&&&w>$\n",
      "         $<w&&&&&&&&&&&&&w>$\n",
      "        $<w&&&&&&&&&&&&&&w>$\n",
      "       $<w&&&&&&&&&&&&&&&w>$\n",
      "      $<w&&&&&&&&&&&&&&&&w>$\n",
      "     $<w&&&&&&&&&&&&&&&&&w>$\n",
      "    $<w&&&&&&&&&&&&&&&&&&w>$\n",
      "   $<w&&&&&&&&&&&&&&&&&&&w>$\n",
      "  $<w&&&&&&&&&&&&&&&&&&&&w>$\n",
      "                           &\n",
      "                           &\n",
      "                           &\n"
     ]
    }
   ],
   "source": [
    "print(\" \"*26 + '♛')\n",
    "print(\" \"*25 + \"^3^\")\n",
    "\n",
    "for i in level:\n",
    "    s = \"<w\" + \"&\"*i + \"w>\"\n",
    "    print( (\" \"*(22-i)) + f\"{ham:＊^1s}\" + s  + f\"{ham:＊^1s}\" )\n",
    "\n",
    "print(\" \"*27 + \"&\")\n",
    "print(\" \"*27 + \"&\")\n",
    "print(\" \"*27 + \"&\")\n",
    "\n"
   ]
  },
  {
   "cell_type": "code",
   "execution_count": null,
   "metadata": {},
   "outputs": [],
   "source": []
  }
 ],
 "metadata": {
  "kernelspec": {
   "display_name": "Python 3",
   "language": "python",
   "name": "python3"
  },
  "language_info": {
   "codemirror_mode": {
    "name": "ipython",
    "version": 3
   },
   "file_extension": ".py",
   "mimetype": "text/x-python",
   "name": "python",
   "nbconvert_exporter": "python",
   "pygments_lexer": "ipython3",
   "version": "3.7.1"
  }
 },
 "nbformat": 4,
 "nbformat_minor": 2
}
