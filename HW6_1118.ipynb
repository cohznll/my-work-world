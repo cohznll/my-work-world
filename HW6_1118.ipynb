{
 "cells": [
  {
   "cell_type": "code",
   "execution_count": 11,
   "metadata": {},
   "outputs": [],
   "source": [
    "%matplotlib inline\n",
    "import numpy as np\n",
    "import pandas as pd\n",
    "import matplotlib.pyplot as plt\n",
    "import sympy as sp\n",
    "import math as math"
   ]
  },
  {
   "cell_type": "markdown",
   "metadata": {},
   "source": [
    "# 小調分一下"
   ]
  },
  {
   "cell_type": "code",
   "execution_count": 15,
   "metadata": {},
   "outputs": [
    {
     "name": "stdout",
     "output_type": "stream",
     "text": [
      "原始分數：100\n",
      "原始分數：66\n",
      "原始分數：84\n",
      "原始分數：64\n",
      "原始分數：45\n",
      "原始分數：36\n",
      "原始分數：q\n"
     ]
    }
   ],
   "source": [
    "ori = []\n",
    "g = True\n",
    "while g:\n",
    "    grade = input('原始分數：')\n",
    "    if grade.isdigit():\n",
    "        ori = ori +[grade]\n",
    "    else:\n",
    "        ori = [int(x) for x in ori]\n",
    "        g = False"
   ]
  },
  {
   "cell_type": "code",
   "execution_count": 29,
   "metadata": {},
   "outputs": [
    {
     "name": "stdout",
     "output_type": "stream",
     "text": [
      "100.00\n",
      "81.24\n",
      "91.65\n",
      "80.00\n",
      "67.08\n",
      "60.00\n"
     ]
    }
   ],
   "source": [
    "for x in ori:\n",
    "    \n",
    "    if math.sqrt(x)*10 >100:\n",
    "        print(100)\n",
    "    else:\n",
    "        print(format(math.sqrt(x)*10, '.2f'))"
   ]
  },
  {
   "cell_type": "code",
   "execution_count": null,
   "metadata": {},
   "outputs": [],
   "source": []
  }
 ],
 "metadata": {
  "kernelspec": {
   "display_name": "Python 3",
   "language": "python",
   "name": "python3"
  },
  "language_info": {
   "codemirror_mode": {
    "name": "ipython",
    "version": 3
   },
   "file_extension": ".py",
   "mimetype": "text/x-python",
   "name": "python",
   "nbconvert_exporter": "python",
   "pygments_lexer": "ipython3",
   "version": "3.7.4"
  }
 },
 "nbformat": 4,
 "nbformat_minor": 2
}
