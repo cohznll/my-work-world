{
 "cells": [
  {
   "cell_type": "code",
   "execution_count": 1,
   "metadata": {},
   "outputs": [],
   "source": [
    "%matplotlib inline\n",
    "\n",
    "import numpy as np\n",
    "import matplotlib.pyplot as plt\n",
    "import pandas as pd"
   ]
  },
  {
   "cell_type": "code",
   "execution_count": 2,
   "metadata": {},
   "outputs": [
    {
     "name": "stdout",
     "output_type": "stream",
     "text": [
      "年份：1999\n"
     ]
    }
   ],
   "source": [
    "year = input('年份：')"
   ]
  },
  {
   "cell_type": "code",
   "execution_count": 3,
   "metadata": {},
   "outputs": [],
   "source": [
    "years=int(year)"
   ]
  },
  {
   "cell_type": "code",
   "execution_count": 4,
   "metadata": {},
   "outputs": [
    {
     "name": "stdout",
     "output_type": "stream",
     "text": [
      "請輸入您的出生西元年：1999\n",
      "請輸入您的生日月日，如:0303：0201\n",
      "恭喜你沒有犯太歲！>3<~\n"
     ]
    }
   ],
   "source": [
    "year = input('請輸入您的出生西元年：')\n",
    "date = input('請輸入您的生日月日，如:0303：')\n",
    "years = int(year)\n",
    "dates = int(date)\n",
    "if dates<=205:\n",
    "        years-=1\n",
    "if years%12==7:\n",
    "        print('你的生肖為兔，很抱歉，你2020年犯太歲QQ...')\n",
    "elif years%12==4:\n",
    "        print('你的生肖為鼠，很抱歉，你2020年犯太歲QQ...')\n",
    "elif years%12==1:\n",
    "        print('你的生肖為雞，很抱歉，你2020年犯太歲QQ...')\n",
    "elif years%12==10:\n",
    "        print('你的生肖為馬，很抱歉，你2020年犯太歲QQ...')\n",
    "elif years%12==11:\n",
    "        print('你的生肖為羊，很抱歉，你2020年犯太歲QQ...')\n",
    "else :\n",
    "        print('恭喜你沒有犯太歲！>3<~')"
   ]
  },
  {
   "cell_type": "code",
   "execution_count": 5,
   "metadata": {},
   "outputs": [
    {
     "name": "stdout",
     "output_type": "stream",
     "text": [
      "請輸入您的出生西元年：1999\n",
      "請輸入您的生日月日，如:0303：0305\n",
      "你的生肖為兔，很抱歉，你2020年犯太歲QQ...\n"
     ]
    }
   ],
   "source": [
    "year = input('請輸入您的出生西元年：')\n",
    "date = input('請輸入您的生日月日，如:0303：')\n",
    "years = int(year)\n",
    "dates = int(date)\n",
    "if dates<=205:\n",
    "        years-=1\n",
    "if years%12==7:\n",
    "        print('你的生肖為兔，很抱歉，你2020年犯太歲QQ...')\n",
    "elif years%12==4:\n",
    "        print('你的生肖為鼠，很抱歉，你2020年犯太歲QQ...')\n",
    "elif years%12==1:\n",
    "        print('你的生肖為雞，很抱歉，你2020年犯太歲QQ...')\n",
    "elif years%12==10:\n",
    "        print('你的生肖為馬，很抱歉，你2020年犯太歲QQ...')\n",
    "elif years%12==11:\n",
    "        print('你的生肖為羊，很抱歉，你2020年犯太歲QQ...')\n",
    "else :\n",
    "        print('恭喜你沒有犯太歲！>3<~')"
   ]
  },
  {
   "cell_type": "code",
   "execution_count": null,
   "metadata": {},
   "outputs": [],
   "source": []
  }
 ],
 "metadata": {
  "kernelspec": {
   "display_name": "Python 3",
   "language": "python",
   "name": "python3"
  },
  "language_info": {
   "codemirror_mode": {
    "name": "ipython",
    "version": 3
   },
   "file_extension": ".py",
   "mimetype": "text/x-python",
   "name": "python",
   "nbconvert_exporter": "python",
   "pygments_lexer": "ipython3",
   "version": "3.7.1"
  }
 },
 "nbformat": 4,
 "nbformat_minor": 2
}
