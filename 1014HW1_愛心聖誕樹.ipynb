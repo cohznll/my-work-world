{
 "cells": [
  {
   "cell_type": "code",
   "execution_count": 1,
   "metadata": {},
   "outputs": [],
   "source": [
    "%matplotlib inline\n",
    "\n",
    "import numpy as np\n",
    "import matplotlib.pyplot as plt\n",
    "import pandas as pd"
   ]
  },
  {
   "cell_type": "code",
   "execution_count": 18,
   "metadata": {},
   "outputs": [
    {
     "name": "stdout",
     "output_type": "stream",
     "text": [
      "💗🌟\n",
      "💗💗🌟\n",
      "💗💗💗🌟\n",
      "💗💗💗💗🌟\n",
      "💗💗💗💗💗🌟\n",
      "💗💗💗💗💗💗🌟\n",
      "💗💗💗💗💗💗💗🌟\n",
      "💗💗💗💗💗💗💗💗🌟\n",
      "💗💗💗💗💗💗💗💗💗🌟\n",
      "💗💗💗💗💗💗💗💗💗💗🌟\n",
      "💗💗💗💗💗💗💗💗💗💗💗🌟\n",
      "💗💗💗💗💗💗💗💗💗💗💗💗🌟\n",
      "💗💗💗💗💗💗💗💗💗💗💗💗💗🌟\n",
      "💗💗💗💗💗💗💗💗💗💗💗💗💗💗🌟\n",
      "💗💗💗💗💗💗💗💗💗💗💗💗💗💗💗🌟\n",
      "💗💗💗💗💗💗💗💗💗💗💗💗💗💗💗💗🌟\n",
      "💗💗💗💗💗💗💗💗💗💗💗💗💗💗💗💗💗🌟\n",
      "💗💗💗💗💗💗💗💗💗💗💗💗💗💗💗💗💗💗🌟\n",
      "💗💗💗💗💗💗💗💗💗💗💗💗💗💗💗💗💗💗💗🌟\n",
      "💗💗💗💗💗💗💗💗💗💗💗💗💗💗💗💗💗💗💗💗🌟\n",
      "💗💗💗💗💗💗💗💗💗💗💗💗💗💗💗💗💗💗💗💗💗🌟\n"
     ]
    }
   ],
   "source": [
    "level = range(0,21)\n",
    "ham = \"💕\"\n",
    "\n",
    "for i in level:\n",
    "    print(\"💗\"*(i+1) + \"🌟\" )"
   ]
  },
  {
   "cell_type": "code",
   "execution_count": 20,
   "metadata": {},
   "outputs": [
    {
     "name": "stdout",
     "output_type": "stream",
     "text": [
      "                             ❤️\n",
      "                       💕🧡 🧡💕\n",
      "                      💕🧡💗 🧡💕\n",
      "                     💕🧡💗💗 🧡💕\n",
      "                    💕🧡💗💗💗 🧡💕\n",
      "                   💕🧡💗💗💗💗 🧡💕\n",
      "                  💕🧡💗💗💗💗💗 🧡💕\n",
      "                 💕🧡💗💗💗💗💗💗 🧡💕\n",
      "                💕🧡💗💗💗💗💗💗💗 🧡💕\n",
      "               💕🧡💗💗💗💗💗💗💗💗 🧡💕\n",
      "              💕🧡💗💗💗💗💗💗💗💗💗 🧡💕\n",
      "             💕🧡💗💗💗💗💗💗💗💗💗💗 🧡💕\n",
      "            💕🧡💗💗💗💗💗💗💗💗💗💗💗 🧡💕\n",
      "           💕🧡💗💗💗💗💗💗💗💗💗💗💗💗 🧡💕\n",
      "          💕🧡💗💗💗💗💗💗💗💗💗💗💗💗💗 🧡💕\n",
      "         💕🧡💗💗💗💗💗💗💗💗💗💗💗💗💗💗 🧡💕\n",
      "        💕🧡💗💗💗💗💗💗💗💗💗💗💗💗💗💗💗 🧡💕\n",
      "       💕🧡💗💗💗💗💗💗💗💗💗💗💗💗💗💗💗💗 🧡💕\n",
      "      💕🧡💗💗💗💗💗💗💗💗💗💗💗💗💗💗💗💗💗 🧡💕\n",
      "     💕🧡💗💗💗💗💗💗💗💗💗💗💗💗💗💗💗💗💗💗 🧡💕\n",
      "    💕🧡💗💗💗💗💗💗💗💗💗💗💗💗💗💗💗💗💗💗💗 🧡💕\n",
      "   💕🧡💗💗💗💗💗💗💗💗💗💗💗💗💗💗💗💗💗💗💗💗 🧡💕\n",
      "                                     💗\n"
     ]
    }
   ],
   "source": [
    "print(\" \"*29 + \"❤️\")\n",
    "\n",
    "for i in level:\n",
    "    s = \"🧡\" + \"💗\"*i + \" 🧡\"\n",
    "    print( (\" \"*(23-i)) + f\"{ham:💕^1s}\" + s  + f\"{ham:💕^1s}\" )\n",
    "\n",
    "print(\" \"*37 + \"💗\")"
   ]
  },
  {
   "cell_type": "code",
   "execution_count": null,
   "metadata": {},
   "outputs": [],
   "source": []
  }
 ],
 "metadata": {
  "kernelspec": {
   "display_name": "Python 3",
   "language": "python",
   "name": "python3"
  },
  "language_info": {
   "codemirror_mode": {
    "name": "ipython",
    "version": 3
   },
   "file_extension": ".py",
   "mimetype": "text/x-python",
   "name": "python",
   "nbconvert_exporter": "python",
   "pygments_lexer": "ipython3",
   "version": "3.7.1"
  }
 },
 "nbformat": 4,
 "nbformat_minor": 2
}
