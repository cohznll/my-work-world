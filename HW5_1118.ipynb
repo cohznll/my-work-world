{
 "cells": [
  {
   "cell_type": "code",
   "execution_count": 1,
   "metadata": {},
   "outputs": [],
   "source": [
    "%matplotlib inline\n",
    "\n",
    "import numpy as np\n",
    "import matplotlib.pyplot as plt\n",
    "import pandas as pd"
   ]
  },
  {
   "cell_type": "code",
   "execution_count": null,
   "metadata": {},
   "outputs": [],
   "source": [
    "# 小兌獎一下"
   ]
  },
  {
   "cell_type": "code",
   "execution_count": 2,
   "metadata": {},
   "outputs": [
    {
     "name": "stdout",
     "output_type": "stream",
     "text": [
      "中獎號碼為？  123\n",
      "!!!!開始對獎!!!!\n",
      "輸入後三碼(輸入L離開)：  123\n",
      "有機會喔!請輸入完整號碼：123123123\n",
      "沒中QQ\n",
      "輸入後三碼(輸入L離開)：  L\n"
     ]
    }
   ],
   "source": [
    "prizes = []\n",
    "\n",
    "p = input(\"中獎號碼為？  \")\n",
    "\n",
    "print('!!!!開始對獎!!!!')\n",
    "while True:\n",
    "    num = input(\"輸入後三碼(輸入L離開)：  \")\n",
    "\n",
    "    if  'L' in num :\n",
    "        break\n",
    "            \n",
    "    elif p[-3:] in num :\n",
    "        full = input(\"有機會喔!請輸入完整號碼：\")\n",
    "        if full == p:\n",
    "            print(\"中獎了!!!!!\")\n",
    "        else:\n",
    "            print(\"沒中QQ\")\n",
    "\n",
    "    \n",
    "    else:\n",
    "        print('嗚嗚..沒有中喔!')"
   ]
  },
  {
   "cell_type": "code",
   "execution_count": null,
   "metadata": {},
   "outputs": [],
   "source": []
  }
 ],
 "metadata": {
  "kernelspec": {
   "display_name": "Python 3",
   "language": "python",
   "name": "python3"
  },
  "language_info": {
   "codemirror_mode": {
    "name": "ipython",
    "version": 3
   },
   "file_extension": ".py",
   "mimetype": "text/x-python",
   "name": "python",
   "nbconvert_exporter": "python",
   "pygments_lexer": "ipython3",
   "version": "3.7.4"
  }
 },
 "nbformat": 4,
 "nbformat_minor": 2
}
