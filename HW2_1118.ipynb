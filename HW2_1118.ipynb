{
 "cells": [
  {
   "cell_type": "code",
   "execution_count": 1,
   "metadata": {},
   "outputs": [],
   "source": [
    "%matplotlib inline\n",
    "\n",
    "import numpy as np\n",
    "import matplotlib.pyplot as plt\n",
    "import pandas as pd"
   ]
  },
  {
   "cell_type": "code",
   "execution_count": 4,
   "metadata": {},
   "outputs": [],
   "source": [
    "Q=15\n",
    "total=0\n",
    "i=0\n",
    "student=[] "
   ]
  },
  {
   "cell_type": "code",
   "execution_count": 5,
   "metadata": {},
   "outputs": [
    {
     "name": "stdout",
     "output_type": "stream",
     "text": [
      "請依序輸入15個正整數分數，每輸入完一個正整數後請按Enter，再接著輸入下一個:\n"
     ]
    }
   ],
   "source": [
    "print('請依序輸入15個正整數分數，每輸入完一個正整數後請按Enter，再接著輸入下一個:')\n"
   ]
  },
  {
   "cell_type": "code",
   "execution_count": 7,
   "metadata": {},
   "outputs": [
    {
     "name": "stdout",
     "output_type": "stream",
     "text": [
      "輸入第1個正整數:80\n",
      "輸入第2個正整數:80\n",
      "輸入第3個正整數:78\n",
      "輸入第4個正整數:45\n",
      "輸入第5個正整數:90\n",
      "輸入第6個正整數:81\n",
      "輸入第7個正整數:31\n",
      "輸入第8個正整數:79\n",
      "輸入第9個正整數:90\n",
      "輸入第10個正整數:93\n",
      "輸入第11個正整數:22\n",
      "輸入第12個正整數:11\n",
      "輸入第13個正整數:23\n",
      "輸入第14個正整數:100\n",
      "輸入第15個正整數:99\n"
     ]
    }
   ],
   "source": [
    "for item in range(Q):  \n",
    "    line = input('輸入第'+str(item+1)+'個正整數:') #使用者輸入成績\n",
    "    data=int(line)\n",
    "    if line.isdecimal() and (data <= 100 and data >= 0):\n",
    "        student.append(data) \n",
    "        total = total + data\n",
    "        i = i + 1\n",
    "    else:\n",
    "        print(\"剛剛輸入的第{0:3d}個值並非正確分數，故不加入串列中\".format(item+1))\n"
   ]
  },
  {
   "cell_type": "code",
   "execution_count": 8,
   "metadata": {},
   "outputs": [
    {
     "name": "stdout",
     "output_type": "stream",
     "text": [
      "已完成輸入\n",
      "\n",
      "全班平均為 67 分\n"
     ]
    }
   ],
   "source": [
    "print('已完成輸入\\n')\n",
    "mean = round (total / i)\n",
    "print('全班平均為', mean ,'分' )\n"
   ]
  },
  {
   "cell_type": "code",
   "execution_count": 13,
   "metadata": {},
   "outputs": [
    {
     "name": "stdout",
     "output_type": "stream",
     "text": [
      "輸入的正確分數為--> 80/80/78/45/90/81/31/79/90/93/22/11/23/100/99/"
     ]
    }
   ],
   "source": [
    "print('輸入的正確分數為', end='--> ')\n",
    "for item in student:\n",
    "    print('{0:d}'.format(item), end='/')"
   ]
  },
  {
   "cell_type": "code",
   "execution_count": 14,
   "metadata": {},
   "outputs": [
    {
     "name": "stdout",
     "output_type": "stream",
     "text": [
      "輸入第1個正整數:90\n",
      "輸入第2個正整數:80\n",
      "輸入第3個正整數:10\n",
      "輸入第4個正整數:3\n",
      "輸入第5個正整數:100\n",
      "輸入第6個正整數:92\n",
      "輸入第7個正整數:81\n",
      "輸入第8個正整數:31\n",
      "輸入第9個正整數:66\n",
      "輸入第10個正整數:67\n",
      "輸入第11個正整數:91\n",
      "輸入第12個正整數:100\n",
      "輸入第13個正整數:81\n",
      "輸入第14個正整數:77\n",
      "輸入第15個正整數:73\n",
      "已完成輸入\n",
      "\n",
      "全班平均為 68 分\n",
      "輸入的正確分數為--> 80/80/78/45/90/81/31/79/90/93/22/11/23/100/99/90/80/10/3/100/92/81/31/66/67/91/100/81/77/73/"
     ]
    }
   ],
   "source": [
    "for item in range(Q):  \n",
    "    line = input('輸入第'+str(item+1)+'個正整數:')\n",
    "    data=int(line)\n",
    "    if line.isdecimal() and (data <= 100 and data >= 0):\n",
    "        student.append(data)  \n",
    "        total = total + data\n",
    "        i = i + 1\n",
    "    else:\n",
    "        print(\"剛剛輸入的第{0:3d}個值並非正確分數，故不加入串列中\".format(item+1))\n",
    "\n",
    "print('已完成輸入\\n')\n",
    "mean = round (total / i)\n",
    "print('全班平均為', mean ,'分' )\n",
    "\n",
    "print('輸入的正確分數為', end='--> ')\n",
    "for item in student:\n",
    "    print('{0:d}'.format(item), end='/')"
   ]
  },
  {
   "cell_type": "code",
   "execution_count": null,
   "metadata": {},
   "outputs": [],
   "source": []
  }
 ],
 "metadata": {
  "kernelspec": {
   "display_name": "Python 3",
   "language": "python",
   "name": "python3"
  },
  "language_info": {
   "codemirror_mode": {
    "name": "ipython",
    "version": 3
   },
   "file_extension": ".py",
   "mimetype": "text/x-python",
   "name": "python",
   "nbconvert_exporter": "python",
   "pygments_lexer": "ipython3",
   "version": "3.7.4"
  }
 },
 "nbformat": 4,
 "nbformat_minor": 2
}
